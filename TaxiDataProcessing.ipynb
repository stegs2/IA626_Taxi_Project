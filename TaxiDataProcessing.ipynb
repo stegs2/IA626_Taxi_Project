{
 "cells": [
  {
   "cell_type": "markdown",
   "metadata": {},
   "source": [
    "## NYC Taxi Trips Project\n",
    "### Austin Stegall\n",
    "### IA 626\n",
    "#### 2/28/2020"
   ]
  },
  {
   "cell_type": "markdown",
   "metadata": {},
   "source": [
    "---"
   ]
  },
  {
   "cell_type": "markdown",
   "metadata": {},
   "source": [
    "### Overview\n",
    "\n",
    "This project will use a dataset that contains information about taxi rides in NYC.  This dataset will be used to answer the following questions and serve as an exercise to get familiar with processing larger datasets.\n",
    "Questions:\n",
    "- What time range does your data cover?  How many rows are there total?\n",
    "- What are the field names?  Give descriptions for each field.\n",
    "- Give some sample data for each field.\n",
    "- What MySQL data types would you need to store each of the fields?\n",
    "    - int(xx), varchar(xx),date,datetime,bool, decimal(m,d)\n",
    "- What is the geographic range of your data (min/max - X/Y)?\n",
    "    - Plot this (approximately on a map)\n",
    "- What are the distinct values for each field? (If applicable)\n",
    "- For other numeric types besides lat and lon, what are the min and max values?\n",
    "- Create a chart which shows the average number of passengers each hour of the day.\n",
    "- Create a new CSV file which has only one out of every thousand rows.\n",
    "- Repeat step 8 with the reduced dataset and compare the two charts.\n"
   ]
  },
  {
   "cell_type": "markdown",
   "metadata": {},
   "source": [
    "\n",
    "---\n",
    "\n",
    "### The Data:\n",
    "The data set resides in a .csv file of ~2.2Gb.  This is too big for microsoft excel to open and render a notebook for so the data will have to be viewed by other means."
   ]
  },
  {
   "cell_type": "code",
   "execution_count": 4,
   "metadata": {},
   "outputs": [],
   "source": [
    "import csv\n",
    "import time\n",
    "import pprint as p\n",
    "from datetime import datetime, time\n",
    "import pandas as pd\n",
    "from plotnine import *"
   ]
  },
  {
   "cell_type": "code",
   "execution_count": 2,
   "metadata": {},
   "outputs": [
    {
     "name": "stdout",
     "output_type": "stream",
     "text": [
      "Loading time : 257.1388840675354\n"
     ]
    }
   ],
   "source": [
    "# Read in data and time:\n",
    "import csv,time\n",
    "\n",
    "start = time.time()\n",
    "\n",
    "# Read in .csv file\n",
    "with open(\"trip_data_2.csv\") as f:\n",
    "    data = [{k: str(v) for k, v in row.items()}\n",
    "        for row in csv.DictReader(f, skipinitialspace=True)]\n",
    "print(\"Loading time : \" + str(time.time()-start))"
   ]
  },
  {
   "cell_type": "markdown",
   "metadata": {},
   "source": [
    "Looks like the data took 257 seconds or about 4.3 minutes to load into memory.  Now we can start examining it.  Note that we will use another method of reading the file line by line in future questions to demonstrate its speed."
   ]
  },
  {
   "cell_type": "code",
   "execution_count": 11,
   "metadata": {},
   "outputs": [
    {
     "name": "stdout",
     "output_type": "stream",
     "text": [
      "{'dropoff_datetime': '2013-02-08 23:42:58',\n",
      " 'dropoff_latitude': '40.718903',\n",
      " 'dropoff_longitude': '-73.984421',\n",
      " 'hack_license': 'D961332334524990D1BBD462E2EFB8A4',\n",
      " 'medallion': '1B5C0970F2AE8CFFBA8AE4584BEAED29',\n",
      " 'passenger_count': '1',\n",
      " 'pickup_datetime': '2013-02-08 23:35:14',\n",
      " 'pickup_latitude': '40.724487',\n",
      " 'pickup_longitude': '-73.992439',\n",
      " 'rate_code': '1',\n",
      " 'store_and_fwd_flag': 'N',\n",
      " 'trip_distance': '.80',\n",
      " 'trip_time_in_secs': '463',\n",
      " 'vendor_id': 'CMT'}\n"
     ]
    }
   ],
   "source": [
    "# Display first column and column names\n",
    "n=0\n",
    "for line in data:\n",
    "    p.pprint(line)\n",
    "    n+=1\n",
    "    if n==1:\n",
    "        break"
   ]
  },
  {
   "cell_type": "markdown",
   "metadata": {},
   "source": [
    "It looks like there are 14 variables with different formats and datatypes.  This information appears to be taxi driver pick up, drop off, and other type of information per taxi ride."
   ]
  },
  {
   "cell_type": "markdown",
   "metadata": {},
   "source": [
    "### Question 1:\n",
    "What time range does your data cover? How many rows are there total?\n",
    "\n",
    "In order to find the date range, the minimum and maximum date must be found.  To accomplish this, we will need to read each line of the file to find the min/max date.  The first date in the file will be initialized as the min and max date.  Initializing the date as the first date in the file and not some random date ensures that our random initialization doesn’t fall out of the date range in the actual file.  Each date will be compared to this initial value and set equal to that value if older or newer depending on if the min or max date is being determined in that particular loop.  It should be noted that the datetime from the file had to be converted to a datetime type that python recognizes.  \n",
    "\n",
    "A row counter will return the final number of rows in the file.  This row counter will piggy back off of the main loop reading the files."
   ]
  },
  {
   "cell_type": "code",
   "execution_count": 6,
   "metadata": {},
   "outputs": [],
   "source": [
    "# determine time range and number of rows in data:\n",
    "\n",
    "i=0 # initialize row counter\n",
    "# initialize min and max date with first value of datetime stripped from dictionary and \n",
    "# convert into a datetime \n",
    "n=0\n",
    "for line in data:\n",
    "    min_datetime = datetime.strptime(line['pickup_datetime'], '%Y-%m-%d %H:%M:%S')\n",
    "    max_datetime = min_datetime\n",
    "    n+=1\n",
    "    if n==1:\n",
    "        break\n",
    "\n",
    "# loop through and find min max date values while counting rows\n",
    "for line in data:\n",
    "    i+=1\n",
    "    datetime = datetime.strptime(line['pickup_datetime'], '%Y-%m-%d %H:%M:%S')\n",
    "    \n",
    "    if datetime >= min_datetime:\n",
    "        min_datetime = min_datetime\n",
    "    else:\n",
    "        min_datetime = datetime\n",
    "        \n",
    "    if datetime >= max_datetime:\n",
    "        max_datetime = datetime\n",
    "    else:\n",
    "        max_datetime = max_datetime\n",
    "\n",
    "print(\"There are {:d} number of rows in this dataset\\n\".format(i))\n",
    "print(\"The date range of the data is from:\",min_datetime,\"to\",max_datetime)"
   ]
  },
  {
   "cell_type": "markdown",
   "metadata": {},
   "source": [
    "#### Date range: \n",
    "- Min: 2013-02-01 00:00:00\n",
    "- Max: 2013-02-28 23:59:59\n",
    "\n",
    "Number of rows = 13,990,176\n",
    "\n",
    "It looks like there this data is for the month of February in 2013.  There are about 14 million rows in this data set."
   ]
  },
  {
   "cell_type": "markdown",
   "metadata": {},
   "source": [
    "---\n",
    "### Question 2 and 3:\n",
    "What are the field names?  Give descriptions for each field. Give some sample data for each field.\n",
    "\n",
    "To show the field names and some sample data, the first row of data will be read into a pandas dataframe and displayed."
   ]
  },
  {
   "cell_type": "code",
   "execution_count": 122,
   "metadata": {},
   "outputs": [
    {
     "data": {
      "text/html": [
       "<style  type=\"text/css\" >\n",
       "</style><table id=\"T_a9146786_6258_11ea_86bf_240a64635208\" ><thead>    <tr>        <th class=\"col_heading level0 col0\" >Variable Name</th>        <th class=\"col_heading level0 col1\" >Value</th>    </tr></thead><tbody>\n",
       "                <tr>\n",
       "                                <td id=\"T_a9146786_6258_11ea_86bf_240a64635208row0_col0\" class=\"data row0 col0\" >medallion</td>\n",
       "                        <td id=\"T_a9146786_6258_11ea_86bf_240a64635208row0_col1\" class=\"data row0 col1\" >1B5C0970F2AE8CFFBA8AE4584BEAED29</td>\n",
       "            </tr>\n",
       "            <tr>\n",
       "                                <td id=\"T_a9146786_6258_11ea_86bf_240a64635208row1_col0\" class=\"data row1 col0\" >hack_license</td>\n",
       "                        <td id=\"T_a9146786_6258_11ea_86bf_240a64635208row1_col1\" class=\"data row1 col1\" >D961332334524990D1BBD462E2EFB8A4</td>\n",
       "            </tr>\n",
       "            <tr>\n",
       "                                <td id=\"T_a9146786_6258_11ea_86bf_240a64635208row2_col0\" class=\"data row2 col0\" >vendor_id</td>\n",
       "                        <td id=\"T_a9146786_6258_11ea_86bf_240a64635208row2_col1\" class=\"data row2 col1\" >CMT</td>\n",
       "            </tr>\n",
       "            <tr>\n",
       "                                <td id=\"T_a9146786_6258_11ea_86bf_240a64635208row3_col0\" class=\"data row3 col0\" >rate_code</td>\n",
       "                        <td id=\"T_a9146786_6258_11ea_86bf_240a64635208row3_col1\" class=\"data row3 col1\" >1</td>\n",
       "            </tr>\n",
       "            <tr>\n",
       "                                <td id=\"T_a9146786_6258_11ea_86bf_240a64635208row4_col0\" class=\"data row4 col0\" >store_and_fwd_flag</td>\n",
       "                        <td id=\"T_a9146786_6258_11ea_86bf_240a64635208row4_col1\" class=\"data row4 col1\" >N</td>\n",
       "            </tr>\n",
       "            <tr>\n",
       "                                <td id=\"T_a9146786_6258_11ea_86bf_240a64635208row5_col0\" class=\"data row5 col0\" >pickup_datetime</td>\n",
       "                        <td id=\"T_a9146786_6258_11ea_86bf_240a64635208row5_col1\" class=\"data row5 col1\" >2013-02-08 23:35:14</td>\n",
       "            </tr>\n",
       "            <tr>\n",
       "                                <td id=\"T_a9146786_6258_11ea_86bf_240a64635208row6_col0\" class=\"data row6 col0\" >dropoff_datetime</td>\n",
       "                        <td id=\"T_a9146786_6258_11ea_86bf_240a64635208row6_col1\" class=\"data row6 col1\" >2013-02-08 23:42:58</td>\n",
       "            </tr>\n",
       "            <tr>\n",
       "                                <td id=\"T_a9146786_6258_11ea_86bf_240a64635208row7_col0\" class=\"data row7 col0\" >passenger_count</td>\n",
       "                        <td id=\"T_a9146786_6258_11ea_86bf_240a64635208row7_col1\" class=\"data row7 col1\" >1</td>\n",
       "            </tr>\n",
       "            <tr>\n",
       "                                <td id=\"T_a9146786_6258_11ea_86bf_240a64635208row8_col0\" class=\"data row8 col0\" >trip_time_in_secs</td>\n",
       "                        <td id=\"T_a9146786_6258_11ea_86bf_240a64635208row8_col1\" class=\"data row8 col1\" >463</td>\n",
       "            </tr>\n",
       "            <tr>\n",
       "                                <td id=\"T_a9146786_6258_11ea_86bf_240a64635208row9_col0\" class=\"data row9 col0\" >trip_distance</td>\n",
       "                        <td id=\"T_a9146786_6258_11ea_86bf_240a64635208row9_col1\" class=\"data row9 col1\" >.80</td>\n",
       "            </tr>\n",
       "            <tr>\n",
       "                                <td id=\"T_a9146786_6258_11ea_86bf_240a64635208row10_col0\" class=\"data row10 col0\" >pickup_longitude</td>\n",
       "                        <td id=\"T_a9146786_6258_11ea_86bf_240a64635208row10_col1\" class=\"data row10 col1\" >-73.992439</td>\n",
       "            </tr>\n",
       "            <tr>\n",
       "                                <td id=\"T_a9146786_6258_11ea_86bf_240a64635208row11_col0\" class=\"data row11 col0\" >pickup_latitude</td>\n",
       "                        <td id=\"T_a9146786_6258_11ea_86bf_240a64635208row11_col1\" class=\"data row11 col1\" >40.724487</td>\n",
       "            </tr>\n",
       "            <tr>\n",
       "                                <td id=\"T_a9146786_6258_11ea_86bf_240a64635208row12_col0\" class=\"data row12 col0\" >dropoff_longitude</td>\n",
       "                        <td id=\"T_a9146786_6258_11ea_86bf_240a64635208row12_col1\" class=\"data row12 col1\" >-73.984421</td>\n",
       "            </tr>\n",
       "            <tr>\n",
       "                                <td id=\"T_a9146786_6258_11ea_86bf_240a64635208row13_col0\" class=\"data row13 col0\" >dropoff_latitude</td>\n",
       "                        <td id=\"T_a9146786_6258_11ea_86bf_240a64635208row13_col1\" class=\"data row13 col1\" >40.718903</td>\n",
       "            </tr>\n",
       "    </tbody></table>"
      ],
      "text/plain": [
       "<pandas.io.formats.style.Styler at 0x12b7fd510c8>"
      ]
     },
     "metadata": {},
     "output_type": "display_data"
    }
   ],
   "source": [
    "# print field names:\n",
    "n=0\n",
    "for line in data:\n",
    "    #p.pprint(line)\n",
    "    pd_line = pd.DataFrame(line.items())\n",
    "    pd_line.columns = ['Variable Name', 'Value']\n",
    "    display(pd_line.style.hide_index()) # hide row index column\n",
    "    n+=1\n",
    "    if n==1:\n",
    "        break"
   ]
  },
  {
   "cell_type": "markdown",
   "metadata": {},
   "source": [
    "#### Column Names:\n",
    "- *dropoff_datetime:* date and time drop off occurred\n",
    "- *dropoff_latitude:* drop off location\n",
    "- *dropoff_longitude:* drop off location\n",
    "- *hack_license:* NYC Taxi Driver License \n",
    "- *medallion:* CPNC or a transferable permit allowing a taxicab driver to operate\n",
    "- *passenger_count:* number of passengers\n",
    "- all pick ups are the same as drop offs but pick up locations\n",
    "- *rate_code:* classifier for how fare is charged?\n",
    "- *store_and_fwd_flag:* This flag indicates whether the trip record was held in vehicle memory before sending to the vendor because the vehicle did not have a connection to the server\n",
    "- *trip_distance:* trip distance\n",
    "- *trip_time_in_sec:* trip time\n",
    "- *vendor_id:* a code indicating the provider associated with the trip record\n",
    "---"
   ]
  },
  {
   "cell_type": "markdown",
   "metadata": {},
   "source": [
    "### Question 4:\n",
    " What MySQL data types would you need to store each of the fields?\n",
    "- *dropoff_datetime:*   DATETIME\n",
    "- *dropoff_latitude:*   DECIMAL\n",
    "- *dropoff_longitude:*  DECIMAL\n",
    "- *hack_license:*       VARCHAR \n",
    "- *medallion:*          VARCHAR\n",
    "- all pick ups are the same as drop offs\n",
    "- *rate_code:*          CHAR\n",
    "- *store_and_fwd_flag:* BOOLEAN\n",
    "- *trip_distance:*      DECIMAL\n",
    "- *trip_time_in_sec:*   INT\n",
    "- *vendor_id:*          VARCHAR\n",
    "---"
   ]
  },
  {
   "cell_type": "markdown",
   "metadata": {},
   "source": [
    "### Question 5:\n",
    "What is the geographic range of your data (min/max - X/Y)?\n",
    "- Plot this (approximately on a map)\n",
    "\n",
    "In order to find the min and max latitude and corresponding longitude we need to read each line.  By reading the file line by line, we won’t run into ram limitations.  The line will be read in as a list of stings.  The latitude and longitude can be found by using the 11th and 12th index of the list.  We will loop though and use the same logic when finding the min and max date.  These coordinates will then be plotted on a map for visualization purposes."
   ]
  },
  {
   "cell_type": "code",
   "execution_count": 23,
   "metadata": {},
   "outputs": [
    {
     "name": "stdout",
     "output_type": "stream",
     "text": [
      "Min lat:  -0.000042 \n",
      " Min long:  -73.968491\n",
      "Max lat:  40.773724 \n",
      " Max long:  -73.968491\n"
     ]
    }
   ],
   "source": [
    "# find min and max long and lat using line by line read instead of conventional method\n",
    "n=0\n",
    "# find min and max long and lat using line by line read instead of conventional method\n",
    "with open(\"trip_data_2.csv\") as file:\n",
    "    reader = csv.reader(file)\n",
    "    for i, line in enumerate(reader):\n",
    "        if i ==1: \n",
    "            min_lat_p = line[11]\n",
    "            min_long_p = line[12]\n",
    "            min_lat_q = line[11]\n",
    "            min_long_q = line[12]\n",
    "        \n",
    "            max_lat_p = min_lat_p\n",
    "            max_long_p = min_long_p\n",
    "            max_lat_q = min_lat_q\n",
    "            max_long_q = min_long_q\n",
    "            \n",
    "        if i > 1:\n",
    "            # Find min lat and corresponding long\n",
    "            if min_lat_p >= line[11]:\n",
    "                min_lat_p = line[11]\n",
    "                min_long = line[12]\n",
    "            else:\n",
    "                min_lat_p = min_lat_p\n",
    "                min_long = line[12]\n",
    "            # find max lat and corresponding long\n",
    "            if max_lat_p <= line[11]:\n",
    "                max_lat_p = line[11]\n",
    "                max_long = line[12]\n",
    "            else:\n",
    "                max_lat_p = min_lat_p\n",
    "                max_long = line[12]            \n",
    "\n",
    "    #print(\"Min lat long pair based on lat is:\\n\")\n",
    "    print(\"Min lat: \",min_lat_p,\"\\n\",\"Min long: \",min_long)\n",
    "    #print(\"Max lat long pair based on lat is:\\n\")\n",
    "    print(\"Max lat: \",max_lat_p,\"\\n\",\"Max long: \",max_long)\n"
   ]
  },
  {
   "cell_type": "code",
   "execution_count": 8,
   "metadata": {},
   "outputs": [],
   "source": [
    "import folium\n",
    "from folium.plugins import MarkerCluster\n",
    "import pandas as pd"
   ]
  },
  {
   "cell_type": "code",
   "execution_count": 22,
   "metadata": {},
   "outputs": [
    {
     "name": "stdout",
     "output_type": "stream",
     "text": [
      "['40.773724', '9.6999996E-5'] \n",
      " ['40.773724', '-73.968491']\n"
     ]
    },
    {
     "data": {
      "text/html": [
       "<div style=\"width:100%;\"><div style=\"position:relative;width:100%;height:0;padding-bottom:60%;\"><iframe src=\"about:blank\" style=\"position:absolute;width:100%;height:100%;left:0;top:0;border:none !important;\" data-html=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 onload=\"this.contentDocument.open();this.contentDocument.write(atob(this.getAttribute('data-html')));this.contentDocument.close();\" allowfullscreen webkitallowfullscreen mozallowfullscreen></iframe></div></div>"
      ],
      "text/plain": [
       "<folium.folium.Map at 0x1d732b887c8>"
      ]
     },
     "execution_count": 22,
     "metadata": {},
     "output_type": "execute_result"
    }
   ],
   "source": [
    "# Create map of coordinates\n",
    "#Define coordinates of where we want to center our map\n",
    "taxi_coords = [41.2000, -74.0060]\n",
    "\n",
    "#Create the map\n",
    "my_map = folium.Map(location = taxi_coords, zoom_start = 8)\n",
    "\n",
    "# add min max coordinate markers to map\n",
    "min_coords = [42.0000, -73.968491]\n",
    "max_coords = [40.773724, -73.968491]\n",
    "\n",
    "print(min2,\"\\n\",max2)\n",
    "folium.Marker(min_coords, popup = 'Max Lat').add_to(my_map)\n",
    "folium.Marker(max_coords, popup = 'Min Lat').add_to(my_map)\n",
    "\n",
    "#Display the map\n",
    "my_map"
   ]
  },
  {
   "cell_type": "markdown",
   "metadata": {},
   "source": [
    "---\n",
    "### Question 6:\n",
    "What are the distinct values for each field? (If applicable)?\n",
    "\n",
    "To count the number of distinct values we can initialize a defaultdict that will serve as empty dictionary to append to.  The file will be read line by line and the number of unique instances will be counted.  This counter works by returning a true or false when the word being counted is found in the specific index of the list.  This is because the line of data being read is always read in as a list of strings.  There is probably a more efficient way to do this task than this method."
   ]
  },
  {
   "cell_type": "code",
   "execution_count": 50,
   "metadata": {},
   "outputs": [],
   "source": [
    "from collections import defaultdict\n",
    "d = defaultdict(int)\n",
    "with open(\"trip_data_2.csv\") as file:\n",
    "    reader = csv.reader(file)\n",
    "    for i, line in enumerate(reader):\n",
    "        if i != 0:\n",
    "            for word in line:\n",
    "                if word in line[7]:\n",
    "                    d[word]+=1\n",
    "#    p.pprint(d)\n",
    "        "
   ]
  },
  {
   "cell_type": "markdown",
   "metadata": {},
   "source": [
    "Each variable will have a certain number of distinct values.  After examining the data set’s variables, it would be impractical or a useless metric to count the distinct value of all variables.  Knowing the distinct number of trip time in seconds is not very useful.  The following variables have an applicable distinct value.  This was done by varying the index in the list of strings --> ex: line[7] = number of passengers.\n",
    "\n",
    "- Vendor ID: CMT and VTS\n",
    "- Rate Code: 0, 1, 2, 3, 4, 5, 6, 7\n",
    "- Store and fwd flag: Y and N\n",
    "- Passenger Count: 1, 2, 3, 4, 5, 6, 7, 8, 9\n"
   ]
  },
  {
   "cell_type": "markdown",
   "metadata": {},
   "source": [
    "---"
   ]
  },
  {
   "cell_type": "markdown",
   "metadata": {},
   "source": [
    "### Question 7:\n",
    "For other numeric types besides lat and lon, what are the min and max values?\n",
    "\n",
    "There exists a min and max value for other variables not examined such as trip distance and trip time.  We will use the same logic as before when determining min and max values."
   ]
  },
  {
   "cell_type": "code",
   "execution_count": 88,
   "metadata": {},
   "outputs": [
    {
     "name": "stdout",
     "output_type": "stream",
     "text": [
      "Minimum Time: 0 s\n",
      "Maximum Time: 999 s\n",
      "Minimum Trip Distance: .00 mi\n",
      "Maximum Trip Distance: 99.70 mi\n"
     ]
    }
   ],
   "source": [
    "# calculate min and max for trip distance and trip time\n",
    "\n",
    "# set min and max values to first value in data set:\n",
    "n=0\n",
    "for temp2 in data:\n",
    "    min_time = line['trip_time_in_secs']\n",
    "    max_time = min_time\n",
    "    min_trip_dist = line['trip_distance']\n",
    "    max_trip_dist = min_trip_dist\n",
    "    n+=1\n",
    "    if n==1:\n",
    "        break\n",
    "\n",
    "# loop through and find min max values\n",
    "i=0\n",
    "for line in data:\n",
    "    time = line['trip_time_in_secs']\n",
    "    trip = line['trip_distance']\n",
    "    if time >= min_time:\n",
    "        min_time = min_time\n",
    "    else:\n",
    "        min_time = time\n",
    "        \n",
    "    if time >= max_time:\n",
    "        max_time = time\n",
    "    else:\n",
    "        max_time = max_time\n",
    "    \n",
    "    if trip >= min_trip_dist:\n",
    "        min_trip_dist = min_trip_dist\n",
    "    else:\n",
    "        min_trip_dist = trip\n",
    "        \n",
    "    if trip >= max_trip_dist:\n",
    "        max_trip_dist = trip\n",
    "    else:\n",
    "        max_trip_dist = max_trip_dist\n",
    "    \n",
    "#     i+=1\n",
    "#     if i==10:\n",
    "#         break\n",
    "print(\"Minimum Time:\",min_time,\"s\")\n",
    "print(\"Maximum Time:\",max_time,\"s\")\n",
    "print(\"Minimum Trip Distance:\",min_trip_dist,\"mi\")\n",
    "print(\"Maximum Trip Distance:\",max_trip_dist,\"mi\")"
   ]
  },
  {
   "cell_type": "markdown",
   "metadata": {},
   "source": [
    "There will be min and max values for the following:\n",
    "\n",
    "- *trip_distance:*     \n",
    "- *trip_time_in_sec:* "
   ]
  },
  {
   "cell_type": "markdown",
   "metadata": {},
   "source": [
    "---\n",
    "### Question 8:\n",
    "Create a chart which shows the average number of passengers each hour of the day.\n",
    "\n",
    "To find the average number of passengers per hour there are several things that need to be done.  First, we will loop through line by line, skipping the first line as it is just the headers, and convert the pickup datetime to a datetime type and extract the hour from that value.  The value for passenger count will also be extracted and stored.  Now a dictionary will be created with the keys equal to the hour of the taxi pick up and value equal to the number of occurrences of that hour (histogram of pickup time binned by hour).  Another loop will be used to create a dictionary were the key is equal to the time of day and the value is equal to the total number of passengers that were picked up in that hour.  The two dictionaries will be transformed into pandas dataframes.  A column will be created that is the total number of passengers in the hour divided by the total number of rides in the hour.   This will be plotted to visualize how the distribution changes per hour. "
   ]
  },
  {
   "cell_type": "code",
   "execution_count": 56,
   "metadata": {},
   "outputs": [],
   "source": [
    "# loop through and find min max date values while counting rows\n",
    "i=0\n",
    "temp = 0\n",
    "passenger_hist = {}\n",
    "sum_hist={}\n",
    "\n",
    "with open(\"trip_data_2.csv\") as file:\n",
    "    reader = csv.reader(file)\n",
    "    for i, line in enumerate(reader):\n",
    "        if i != 0:\n",
    "            datetime = datetime.strptime(line[5], '%Y-%m-%d %H:%M:%S')\n",
    "            time = datetime.hour    \n",
    "            p_count = line[7]\n",
    "\n",
    "            # Create dictionary to get number of rides per hour\n",
    "            if time in passenger_hist.keys():\n",
    "                passenger_hist[time] +=1        \n",
    "            else:\n",
    "                passenger_hist[time] = 1 \n",
    "            # create dict. to get number of passengers per hour\n",
    "            if time in sum_hist.keys():\n",
    "                temp = temp + int(p_count)\n",
    "                sum_hist[time] = temp\n",
    "            else:\n",
    "                sum_hist[time] = temp"
   ]
  },
  {
   "cell_type": "code",
   "execution_count": 57,
   "metadata": {},
   "outputs": [
    {
     "data": {
      "text/html": [
       "<div>\n",
       "<style scoped>\n",
       "    .dataframe tbody tr th:only-of-type {\n",
       "        vertical-align: middle;\n",
       "    }\n",
       "\n",
       "    .dataframe tbody tr th {\n",
       "        vertical-align: top;\n",
       "    }\n",
       "\n",
       "    .dataframe thead th {\n",
       "        text-align: right;\n",
       "    }\n",
       "</style>\n",
       "<table border=\"1\" class=\"dataframe\">\n",
       "  <thead>\n",
       "    <tr style=\"text-align: right;\">\n",
       "      <th></th>\n",
       "      <th>time</th>\n",
       "      <th>avg_pass_count</th>\n",
       "    </tr>\n",
       "  </thead>\n",
       "  <tbody>\n",
       "    <tr>\n",
       "      <td>0</td>\n",
       "      <td>23</td>\n",
       "      <td>35.247876</td>\n",
       "    </tr>\n",
       "    <tr>\n",
       "      <td>1</td>\n",
       "      <td>12</td>\n",
       "      <td>34.392277</td>\n",
       "    </tr>\n",
       "    <tr>\n",
       "      <td>2</td>\n",
       "      <td>8</td>\n",
       "      <td>36.754603</td>\n",
       "    </tr>\n",
       "    <tr>\n",
       "      <td>3</td>\n",
       "      <td>9</td>\n",
       "      <td>36.074553</td>\n",
       "    </tr>\n",
       "    <tr>\n",
       "      <td>4</td>\n",
       "      <td>19</td>\n",
       "      <td>26.669510</td>\n",
       "    </tr>\n",
       "    <tr>\n",
       "      <td>5</td>\n",
       "      <td>22</td>\n",
       "      <td>30.649194</td>\n",
       "    </tr>\n",
       "    <tr>\n",
       "      <td>6</td>\n",
       "      <td>2</td>\n",
       "      <td>83.669317</td>\n",
       "    </tr>\n",
       "    <tr>\n",
       "      <td>7</td>\n",
       "      <td>0</td>\n",
       "      <td>45.025298</td>\n",
       "    </tr>\n",
       "    <tr>\n",
       "      <td>8</td>\n",
       "      <td>14</td>\n",
       "      <td>33.098326</td>\n",
       "    </tr>\n",
       "    <tr>\n",
       "      <td>9</td>\n",
       "      <td>18</td>\n",
       "      <td>27.102969</td>\n",
       "    </tr>\n",
       "    <tr>\n",
       "      <td>10</td>\n",
       "      <td>4</td>\n",
       "      <td>158.609392</td>\n",
       "    </tr>\n",
       "    <tr>\n",
       "      <td>11</td>\n",
       "      <td>7</td>\n",
       "      <td>46.010884</td>\n",
       "    </tr>\n",
       "    <tr>\n",
       "      <td>12</td>\n",
       "      <td>11</td>\n",
       "      <td>36.605367</td>\n",
       "    </tr>\n",
       "    <tr>\n",
       "      <td>13</td>\n",
       "      <td>20</td>\n",
       "      <td>28.477871</td>\n",
       "    </tr>\n",
       "    <tr>\n",
       "      <td>14</td>\n",
       "      <td>6</td>\n",
       "      <td>82.299316</td>\n",
       "    </tr>\n",
       "    <tr>\n",
       "      <td>15</td>\n",
       "      <td>13</td>\n",
       "      <td>34.577118</td>\n",
       "    </tr>\n",
       "    <tr>\n",
       "      <td>16</td>\n",
       "      <td>10</td>\n",
       "      <td>37.509759</td>\n",
       "    </tr>\n",
       "    <tr>\n",
       "      <td>17</td>\n",
       "      <td>15</td>\n",
       "      <td>34.408901</td>\n",
       "    </tr>\n",
       "    <tr>\n",
       "      <td>18</td>\n",
       "      <td>17</td>\n",
       "      <td>33.162061</td>\n",
       "    </tr>\n",
       "    <tr>\n",
       "      <td>19</td>\n",
       "      <td>1</td>\n",
       "      <td>62.864416</td>\n",
       "    </tr>\n",
       "    <tr>\n",
       "      <td>20</td>\n",
       "      <td>16</td>\n",
       "      <td>39.533709</td>\n",
       "    </tr>\n",
       "    <tr>\n",
       "      <td>21</td>\n",
       "      <td>21</td>\n",
       "      <td>29.536013</td>\n",
       "    </tr>\n",
       "    <tr>\n",
       "      <td>22</td>\n",
       "      <td>5</td>\n",
       "      <td>179.983928</td>\n",
       "    </tr>\n",
       "    <tr>\n",
       "      <td>23</td>\n",
       "      <td>3</td>\n",
       "      <td>114.110988</td>\n",
       "    </tr>\n",
       "  </tbody>\n",
       "</table>\n",
       "</div>"
      ],
      "text/plain": [
       "    time  avg_pass_count\n",
       "0     23       35.247876\n",
       "1     12       34.392277\n",
       "2      8       36.754603\n",
       "3      9       36.074553\n",
       "4     19       26.669510\n",
       "5     22       30.649194\n",
       "6      2       83.669317\n",
       "7      0       45.025298\n",
       "8     14       33.098326\n",
       "9     18       27.102969\n",
       "10     4      158.609392\n",
       "11     7       46.010884\n",
       "12    11       36.605367\n",
       "13    20       28.477871\n",
       "14     6       82.299316\n",
       "15    13       34.577118\n",
       "16    10       37.509759\n",
       "17    15       34.408901\n",
       "18    17       33.162061\n",
       "19     1       62.864416\n",
       "20    16       39.533709\n",
       "21    21       29.536013\n",
       "22     5      179.983928\n",
       "23     3      114.110988"
      ]
     },
     "metadata": {},
     "output_type": "display_data"
    }
   ],
   "source": [
    "# create dataframe of passengers per hour\n",
    "pass_per_hour = pd.DataFrame(sum_hist.items())\n",
    "pass_per_hour.columns = ['time', 'total_pass_count']\n",
    "\n",
    "\n",
    "pass_hist = pd.DataFrame(passenger_hist.items())\n",
    "pass_hist.columns = ['time', 'total_rides_in_hour']\n",
    "\n",
    "#print(pass_hist)\n",
    "\n",
    "avg_per_hour = pass_per_hour\n",
    "avg_per_hour.total_pass_count = avg_per_hour.total_pass_count/pass_hist.total_rides_in_hour\n",
    "\n",
    "avg_per_hour.columns = ['time', 'avg_pass_count']\n",
    "\n",
    "display(avg_per_hour)"
   ]
  },
  {
   "cell_type": "code",
   "execution_count": 58,
   "metadata": {},
   "outputs": [
    {
     "data": {
      "image/png": "[encoded data removed]",
      "text/plain": [
       "<Figure size 640x480 with 1 Axes>"
      ]
     },
     "metadata": {
      "needs_background": "light"
     },
     "output_type": "display_data"
    },
    {
     "data": {
      "text/plain": [
       "<ggplot: (-9223371910359768720)>"
      ]
     },
     "execution_count": 58,
     "metadata": {},
     "output_type": "execute_result"
    }
   ],
   "source": [
    "# Create plot, this represents total sum of passengers divided by the number of rides binned by hour\n",
    "# of the day.\n",
    "\n",
    "plot1 = (ggplot(avg_per_hour, aes(x = 'time', y = 'avg_pass_count'))+ \n",
    "               geom_bar(stat = \"identity\", alpha = 0.7)+\n",
    "               scale_x_continuous(breaks = range(0,24,1))+\n",
    "               labs(x = \"Time of Day\", y = \"Average Passenger Count\", title = \"Avg Passenger/Hour\" )+\n",
    "               theme_minimal())\n",
    "    \n",
    "plot1"
   ]
  },
  {
   "cell_type": "markdown",
   "metadata": {},
   "source": [
    "By analyzing the plot above, there clearly exists a spike in taxi rides in the early morning hours where as rides level off during the day."
   ]
  },
  {
   "cell_type": "markdown",
   "metadata": {},
   "source": [
    "---\n",
    "### Question 9:\n",
    "Create a new CSV file which has only one out of every thousand rows."
   ]
  },
  {
   "cell_type": "code",
   "execution_count": null,
   "metadata": {},
   "outputs": [],
   "source": [
    "n=0\n",
    "with open(\"trip_data_2.csv\") as file:\n",
    "    reader = csv.reader(file)\n",
    "    \n",
    "    # create new file to append to\n",
    "    f2 = open('trip_data_2_sample.csv','w')\n",
    "    f2.write(\"\")\n",
    "    f2.close()\n",
    "    \n",
    "    # open file in append mode\n",
    "    f2 = open('trip_data_2_sample.csv','a')\n",
    "    # set writer\n",
    "    writer = csv.writer(f2, delimiter=',',lineterminator='\\n')\n",
    "    # loop through and write every 1000 lines\n",
    "    for i, line in enumerate(reader):\n",
    "        if i == 0 or i == 1:\n",
    "            writer.writerow(line)\n",
    "        if n == 1000:\n",
    "            writer.writerow(line)\n",
    "            n=0\n",
    "        n+=1\n",
    "f2.close()"
   ]
  },
  {
   "cell_type": "markdown",
   "metadata": {},
   "source": [
    "Creating a new file which has only one out of every thousand rows is easy.  Just simply read the file in line by line keeping a counter that writes a line everytime it counts to 1000.  This counter is then set back to 0 and the process starts over again.  This produces a new file that is one row for every thousand rows of the original file."
   ]
  },
  {
   "cell_type": "markdown",
   "metadata": {},
   "source": [
    "---\n",
    "## Question 10:\n",
    "Repeat step 8 with the reduced dataset and compare the two charts.\n",
    "\n",
    "The same code can be used from question 8 with new variables.  To aid in comparing the plots, the results from the data subset will be plotted as red bars to highlight the difference in values."
   ]
  },
  {
   "cell_type": "code",
   "execution_count": 52,
   "metadata": {},
   "outputs": [],
   "source": [
    "temp = 0\n",
    "passenger_hist2 = {}\n",
    "sum_hist2={}\n",
    "\n",
    "with open(\"trip_data_2_sample.csv\") as file:\n",
    "    reader = csv.reader(file)\n",
    "    for i, line in enumerate(reader):\n",
    "        if i != 0:\n",
    "            datetime = datetime.strptime(line[5], '%Y-%m-%d %H:%M:%S')\n",
    "            time = datetime.hour \n",
    "            p_count = line[7]\n",
    "            \n",
    "            # Create dictionary to get number of rides per hour\n",
    "            if time in passenger_hist2.keys():\n",
    "                passenger_hist2[time] +=1        \n",
    "            else:\n",
    "                passenger_hist2[time] = 1 \n",
    "            # Create dict. to get number of passengers per hour\n",
    "            if time in sum_hist2.keys():\n",
    "                temp = temp + int(p_count)\n",
    "                sum_hist2[time] = temp\n",
    "            else:\n",
    "                sum_hist2[time] = temp\n",
    "#         if i == 3:\n",
    "#             break"
   ]
  },
  {
   "cell_type": "code",
   "execution_count": 53,
   "metadata": {},
   "outputs": [
    {
     "data": {
      "text/html": [
       "<div>\n",
       "<style scoped>\n",
       "    .dataframe tbody tr th:only-of-type {\n",
       "        vertical-align: middle;\n",
       "    }\n",
       "\n",
       "    .dataframe tbody tr th {\n",
       "        vertical-align: top;\n",
       "    }\n",
       "\n",
       "    .dataframe thead th {\n",
       "        text-align: right;\n",
       "    }\n",
       "</style>\n",
       "<table border=\"1\" class=\"dataframe\">\n",
       "  <thead>\n",
       "    <tr style=\"text-align: right;\">\n",
       "      <th></th>\n",
       "      <th>time</th>\n",
       "      <th>avg_pass_count2</th>\n",
       "    </tr>\n",
       "  </thead>\n",
       "  <tbody>\n",
       "    <tr>\n",
       "      <td>0</td>\n",
       "      <td>23</td>\n",
       "      <td>36.243827</td>\n",
       "    </tr>\n",
       "    <tr>\n",
       "      <td>1</td>\n",
       "      <td>15</td>\n",
       "      <td>32.527273</td>\n",
       "    </tr>\n",
       "    <tr>\n",
       "      <td>2</td>\n",
       "      <td>13</td>\n",
       "      <td>34.281752</td>\n",
       "    </tr>\n",
       "    <tr>\n",
       "      <td>3</td>\n",
       "      <td>16</td>\n",
       "      <td>39.982818</td>\n",
       "    </tr>\n",
       "    <tr>\n",
       "      <td>4</td>\n",
       "      <td>14</td>\n",
       "      <td>33.071831</td>\n",
       "    </tr>\n",
       "    <tr>\n",
       "      <td>5</td>\n",
       "      <td>17</td>\n",
       "      <td>31.790698</td>\n",
       "    </tr>\n",
       "    <tr>\n",
       "      <td>6</td>\n",
       "      <td>12</td>\n",
       "      <td>36.328682</td>\n",
       "    </tr>\n",
       "    <tr>\n",
       "      <td>7</td>\n",
       "      <td>18</td>\n",
       "      <td>30.430809</td>\n",
       "    </tr>\n",
       "    <tr>\n",
       "      <td>8</td>\n",
       "      <td>19</td>\n",
       "      <td>25.538798</td>\n",
       "    </tr>\n",
       "    <tr>\n",
       "      <td>9</td>\n",
       "      <td>20</td>\n",
       "      <td>27.700592</td>\n",
       "    </tr>\n",
       "    <tr>\n",
       "      <td>10</td>\n",
       "      <td>21</td>\n",
       "      <td>28.626374</td>\n",
       "    </tr>\n",
       "    <tr>\n",
       "      <td>11</td>\n",
       "      <td>22</td>\n",
       "      <td>29.901911</td>\n",
       "    </tr>\n",
       "    <tr>\n",
       "      <td>12</td>\n",
       "      <td>0</td>\n",
       "      <td>41.782918</td>\n",
       "    </tr>\n",
       "    <tr>\n",
       "      <td>13</td>\n",
       "      <td>1</td>\n",
       "      <td>61.419098</td>\n",
       "    </tr>\n",
       "    <tr>\n",
       "      <td>14</td>\n",
       "      <td>2</td>\n",
       "      <td>87.445283</td>\n",
       "    </tr>\n",
       "    <tr>\n",
       "      <td>15</td>\n",
       "      <td>3</td>\n",
       "      <td>114.295567</td>\n",
       "    </tr>\n",
       "    <tr>\n",
       "      <td>16</td>\n",
       "      <td>4</td>\n",
       "      <td>150.525974</td>\n",
       "    </tr>\n",
       "    <tr>\n",
       "      <td>17</td>\n",
       "      <td>8</td>\n",
       "      <td>37.096000</td>\n",
       "    </tr>\n",
       "    <tr>\n",
       "      <td>18</td>\n",
       "      <td>6</td>\n",
       "      <td>75.757475</td>\n",
       "    </tr>\n",
       "    <tr>\n",
       "      <td>19</td>\n",
       "      <td>7</td>\n",
       "      <td>44.534884</td>\n",
       "    </tr>\n",
       "    <tr>\n",
       "      <td>20</td>\n",
       "      <td>9</td>\n",
       "      <td>35.092284</td>\n",
       "    </tr>\n",
       "    <tr>\n",
       "      <td>21</td>\n",
       "      <td>5</td>\n",
       "      <td>182.296000</td>\n",
       "    </tr>\n",
       "    <tr>\n",
       "      <td>22</td>\n",
       "      <td>10</td>\n",
       "      <td>34.451039</td>\n",
       "    </tr>\n",
       "    <tr>\n",
       "      <td>23</td>\n",
       "      <td>11</td>\n",
       "      <td>34.337243</td>\n",
       "    </tr>\n",
       "  </tbody>\n",
       "</table>\n",
       "</div>"
      ],
      "text/plain": [
       "    time  avg_pass_count2\n",
       "0     23        36.243827\n",
       "1     15        32.527273\n",
       "2     13        34.281752\n",
       "3     16        39.982818\n",
       "4     14        33.071831\n",
       "5     17        31.790698\n",
       "6     12        36.328682\n",
       "7     18        30.430809\n",
       "8     19        25.538798\n",
       "9     20        27.700592\n",
       "10    21        28.626374\n",
       "11    22        29.901911\n",
       "12     0        41.782918\n",
       "13     1        61.419098\n",
       "14     2        87.445283\n",
       "15     3       114.295567\n",
       "16     4       150.525974\n",
       "17     8        37.096000\n",
       "18     6        75.757475\n",
       "19     7        44.534884\n",
       "20     9        35.092284\n",
       "21     5       182.296000\n",
       "22    10        34.451039\n",
       "23    11        34.337243"
      ]
     },
     "metadata": {},
     "output_type": "display_data"
    }
   ],
   "source": [
    "# create dataframe of passengers per hour\n",
    "pass_per_hour2 = pd.DataFrame(sum_hist2.items())\n",
    "pass_per_hour2.columns = ['time', 'total_pass_count2']\n",
    "\n",
    "\n",
    "pass_hist2 = pd.DataFrame(passenger_hist2.items())\n",
    "pass_hist2.columns = ['time', 'total_rides_in_hour2']\n",
    "\n",
    "#print(pass_hist)\n",
    "\n",
    "avg_per_hour2 = pass_per_hour2\n",
    "avg_per_hour2.total_pass_count2 = avg_per_hour2.total_pass_count2/pass_hist2.total_rides_in_hour2\n",
    "\n",
    "avg_per_hour2.columns = ['time', 'avg_pass_count2']\n",
    "\n",
    "# add third column\n",
    "#avg_per_hour2['avg_pass_count1'] = avg_per_hour.avg_pass_count\n",
    "\n",
    "\n",
    "display(avg_per_hour2)"
   ]
  },
  {
   "cell_type": "code",
   "execution_count": 54,
   "metadata": {},
   "outputs": [],
   "source": [
    "# Create plot, this represents total sum of passengers divided by the number of rides binned by hour\n",
    "# of the day.\n",
    "\n",
    "plot2 = (ggplot(avg_per_hour2, aes(x = 'time', y = 'avg_pass_count2'))+ \n",
    "               geom_bar(stat = \"identity\", alpha = 0.7)+\n",
    "               scale_x_continuous(breaks = range(0,24,1))+\n",
    "               labs(x = \"Time of Day\", y = \"Average Passenger Count\", title = \"Avg Passenger/Hour\" )+\n",
    "               theme_minimal())"
   ]
  },
  {
   "cell_type": "code",
   "execution_count": 79,
   "metadata": {},
   "outputs": [
    {
     "data": {
      "image/png": "[encoded data removed]",
      "text/plain": [
       "<Figure size 640x480 with 1 Axes>"
      ]
     },
     "metadata": {
      "needs_background": "light"
     },
     "output_type": "display_data"
    },
    {
     "data": {
      "text/plain": [
       "<ggplot: (-9223371910361890860)>"
      ]
     },
     "execution_count": 79,
     "metadata": {},
     "output_type": "execute_result"
    }
   ],
   "source": [
    "# Plot both on same plot\n",
    "\n",
    "plot3 = plot1 + (geom_point(avg_per_hour2, aes(x = 'time', y = 'avg_pass_count2'), \n",
    "                          stat = \"identity\", alpha = 0.7, fill = 'red',shape = '_', size=6.8))\n",
    "\n",
    "plot3"
   ]
  },
  {
   "cell_type": "markdown",
   "metadata": {},
   "source": [
    "The plot above shows avg passengers per hour of the day.  The gray bars indicates the passenger count from the original data set while the red bars indicate the count from the sample set.  We can see that the smaller sample matches the distribution of the larger sample quite well. "
   ]
  }
 ],
 "metadata": {
  "kernelspec": {
   "display_name": "Python 3",
   "language": "python",
   "name": "python3"
  },
  "language_info": {
   "codemirror_mode": {
    "name": "ipython",
    "version": 3
   },
   "file_extension": ".py",
   "mimetype": "text/x-python",
   "name": "python",
   "nbconvert_exporter": "python",
   "pygments_lexer": "ipython3",
   "version": "3.7.4"
  }
 },
 "nbformat": 4,
 "nbformat_minor": 4
}
